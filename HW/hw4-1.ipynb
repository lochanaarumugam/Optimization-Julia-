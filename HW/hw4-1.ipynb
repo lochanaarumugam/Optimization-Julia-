{
 "cells": [
  {
   "cell_type": "code",
   "execution_count": 1,
   "metadata": {},
   "outputs": [],
   "source": [
    "warehouse = 4\n",
    "consumer = 3\n",
    "\n",
    "costs = [25 35 125;\n",
    "        10 30 50;\n",
    "        20 40 30;\n",
    "        70 75 65]\n",
    "        \n",
    "supply = [30 30 30 45]\n",
    "demand = [45 50 40];"
   ]
  },
  {
   "cell_type": "code",
   "execution_count": 2,
   "metadata": {},
   "outputs": [
    {
     "name": "stdout",
     "output_type": "stream",
     "text": [
      "Min 25 x[1,1] + 35 x[1,2] + 125 x[1,3] + 10 x[2,1] + 30 x[2,2] + 50 x[2,3] + 20 x[3,1] + 40 x[3,2] + 30 x[3,3] + 70 x[4,1] + 75 x[4,2] + 65 x[4,3]\n",
      "Subject to\n",
      " demandconstraint[1] : x[1,1] + x[2,1] + x[3,1] + x[4,1] ≥ 45\n",
      " demandconstraint[2] : x[1,2] + x[2,2] + x[3,2] + x[4,2] ≥ 50\n",
      " demandconstraint[3] : x[1,3] + x[2,3] + x[3,3] + x[4,3] ≥ 40\n",
      " supplyconstraint[1] : x[1,1] + x[1,2] + x[1,3] ≤ 30\n",
      " supplyconstraint[2] : x[2,1] + x[2,2] + x[2,3] ≤ 30\n",
      " supplyconstraint[3] : x[3,1] + x[3,2] + x[3,3] ≤ 30\n",
      " supplyconstraint[4] : x[4,1] + x[4,2] + x[4,3] ≤ 45\n",
      " x[1,1] ≥ 0\n",
      " x[2,1] ≥ 0\n",
      " x[3,1] ≥ 0\n",
      " x[4,1] ≥ 0\n",
      " x[1,2] ≥ 0\n",
      " x[2,2] ≥ 0\n",
      " x[3,2] ≥ 0\n",
      " x[4,2] ≥ 0\n",
      " x[1,3] ≥ 0\n",
      " x[2,3] ≥ 0\n",
      " x[3,3] ≥ 0\n",
      " x[4,3] ≥ 0\n"
     ]
    }
   ],
   "source": [
    "using JuMP, HiGHS\n",
    "\n",
    "ship = Model(HiGHS.Optimizer)\n",
    "\n",
    "#Create a variable xij for each pair of warehouse and consumer that represents\n",
    "#the amount of shipment sent from warehouse i to consumer j\n",
    "@variable(ship, x[1:warehouse,1:consumer] >= 0)\n",
    "\n",
    "#Each warehouse i can provide at most supply[i] of stuff\n",
    "@constraint(ship, supplyconstraint[i in 1:warehouse], sum(x[i,j] for j in 1:consumer) <= supply[i])\n",
    "\n",
    "#Each consumer j requires at least demand[j] of stuff\n",
    "@constraint(ship, demandconstraint[j in 1:consumer], sum(x[i,j] for i in 1:warehouse) >= demand[j])\n",
    "\n",
    "#Cost of sending from warehose i to consuemr j is given by costs[i,j]\n",
    "@objective(ship, Min, sum(sum(costs[i,j]*x[i,j] for j in 1:consumer) for i in 1:warehouse))\n",
    "\n",
    "print(ship)"
   ]
  },
  {
   "cell_type": "code",
   "execution_count": 3,
   "metadata": {},
   "outputs": [
    {
     "name": "stdout",
     "output_type": "stream",
     "text": [
      "Running HiGHS 1.7.2 (git hash: 5ce7a2753): Copyright (c) 2024 HiGHS under MIT licence terms\n",
      "Coefficient ranges:\n",
      "  Matrix [1e+00, 1e+00]\n",
      "  Cost   [1e+01, 1e+02]\n",
      "  Bound  [0e+00, 0e+00]\n",
      "  RHS    [3e+01, 5e+01]\n",
      "Presolving model\n",
      "7 rows, 12 cols, 24 nonzeros  0s\n",
      "7 rows, 12 cols, 24 nonzeros  0s\n",
      "Presolve : Reductions: rows 7(-0); columns 12(-0); elements 24(-0) - Not reduced\n",
      "Problem not reduced by presolve: solving the LP\n",
      "Using EKK dual simplex solver - serial\n",
      "  Iteration        Objective     Infeasibilities num(sum)\n",
      "          0     0.0000000000e+00 Pr: 3(135) 0s\n",
      "          7     5.2250000000e+03 Pr: 0(0) 0s\n",
      "Model   status      : Optimal\n",
      "Simplex   iterations: 7\n",
      "Objective value     :  5.2250000000e+03\n",
      "HiGHS run time      :          0.00\n",
      "objective_value(ship) = 5225.0\n",
      "value.(x) = [0.0 30.0 0.0; 15.0 15.0 0.0; 30.0 0.0 0.0; 0.0 5.0 40.0]\n"
     ]
    },
    {
     "data": {
      "text/plain": [
       "4×3 Matrix{Float64}:\n",
       "  0.0  30.0   0.0\n",
       " 15.0  15.0   0.0\n",
       " 30.0   0.0   0.0\n",
       "  0.0   5.0  40.0"
      ]
     },
     "metadata": {},
     "output_type": "display_data"
    }
   ],
   "source": [
    "optimize!(ship)\n",
    "@show objective_value(ship)\n",
    "@show value.(x)"
   ]
  }
 ],
 "metadata": {
  "kernelspec": {
   "display_name": "Julia 1.10.5",
   "language": "julia",
   "name": "julia-1.10"
  },
  "language_info": {
   "file_extension": ".jl",
   "mimetype": "application/julia",
   "name": "julia",
   "version": "1.10.5"
  }
 },
 "nbformat": 4,
 "nbformat_minor": 2
}
