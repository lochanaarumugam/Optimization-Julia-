{
 "cells": [
  {
   "cell_type": "code",
   "execution_count": 27,
   "metadata": {},
   "outputs": [],
   "source": [
    "# Number of oil fields, refineries, and receivers\n",
    "oilfields = 2  # LA, SD\n",
    "refineries = 2 # Dallas, Houston\n",
    "receivers = 2  # New York, Chicago\n",
    "numedges = oilfields * refineries + refineries * receivers + receivers # Total number of arcs\n",
    "\n",
    "#Define the incidence matrix A for our network\n",
    "A = [1  1  1  0  0  0  0  0  0  0\n",
    "     0  0  0  1  1  1  0  0  0  0\n",
    "    -1  0  0 -1  0  0  1  1  0  0\n",
    "     0 -1  0  0 -1  0  0  0  1  1\n",
    "     0  0  0  0  0  0 -1  0 -1  0\n",
    "     0  0  0  0  0  0  0 -1  0 -1\n",
    "     0  0 -1  0  0 -1  0  0  0  0]\n",
    "\n",
    "#Supply (first 2) and refineries + demand (last 5 entries)\n",
    "b = [400000, 600000, 0, 0, -300000, -400000, -300000]\n",
    "\n",
    "# for 100000 barrels each\n",
    "costs = [1250 10000 0 900 1320 0 470 530 450 550];\n",
    "\n"
   ]
  },
  {
   "cell_type": "code",
   "execution_count": 31,
   "metadata": {},
   "outputs": [
    {
     "name": "stdout",
     "output_type": "stream",
     "text": [
      "Min 0.0125 x[1] + 0.1 x[2] + 0.009 x[4] + 0.0132 x[5] + 0.0047 x[7] + 0.0053 x[8] + 0.0045 x[9] + 0.0055 x[10]\n",
      "Subject to\n",
      " supplyanddemand : x[1] + x[2] + x[3] = 400000\n",
      " supplyanddemand : x[4] + x[5] + x[6] = 600000\n",
      " supplyanddemand : -x[1] - x[4] + x[7] + x[8] = 0\n",
      " supplyanddemand : -x[2] - x[5] + x[9] + x[10] = 0\n",
      " supplyanddemand : -x[7] - x[9] = -300000\n",
      " supplyanddemand : -x[8] - x[10] = -400000\n",
      " supplyanddemand : -x[3] - x[6] = -300000\n",
      " x[1] ≥ 0\n",
      " x[2] ≥ 0\n",
      " x[3] ≥ 0\n",
      " x[4] ≥ 0\n",
      " x[5] ≥ 0\n",
      " x[6] ≥ 0\n",
      " x[7] ≥ 0\n",
      " x[8] ≥ 0\n",
      " x[9] ≥ 0\n",
      " x[10] ≥ 0\n"
     ]
    }
   ],
   "source": [
    "using JuMP, HiGHS\n",
    "\n",
    "oil = Model(HiGHS.Optimizer)\n",
    "\n",
    "@variable(oil, x[1:numedges] >= 0)\n",
    "@constraint(oil, supplyanddemand, A*x .== b)\n",
    "\n",
    "@objective(oil, Min, sum(costs[i]*x[i]/100000 for i in 1:numedges)) # divided by 100,000 as that was the cost ratio\n",
    "\n",
    "print(oil)"
   ]
  },
  {
   "cell_type": "code",
   "execution_count": 32,
   "metadata": {},
   "outputs": [
    {
     "name": "stdout",
     "output_type": "stream",
     "text": [
      "Running HiGHS 1.7.2 (git hash: 5ce7a2753): Copyright (c) 2024 HiGHS under MIT licence terms\n",
      "Coefficient ranges:\n",
      "  Matrix [1e+00, 1e+00]\n",
      "  Cost   [4e-03, 1e-01]\n",
      "  Bound  [0e+00, 0e+00]\n",
      "  RHS    [3e+05, 6e+05]\n",
      "Presolving model\n",
      "4 rows, 7 cols, 14 nonzeros  0s\n",
      "3 rows, 7 cols, 10 nonzeros  0s\n",
      "Presolve : Reductions: rows 3(-4); columns 7(-3); elements 10(-10)\n",
      "Solving the presolved LP\n",
      "Using EKK dual simplex solver - serial\n",
      "  Iteration        Objective     Infeasibilities num(sum)\n",
      "          0     3.5300000000e+03 Pr: 2(700000) 0s\n",
      "          3     1.0180000000e+04 Pr: 0(0) 0s\n",
      "          3     1.0180000000e+04 Pr: 0(0) 0s\n",
      "Solving the original LP from the solution after postsolve\n",
      "Model   status      : Optimal\n",
      "Simplex   iterations: 3\n",
      "Objective value     :  1.0180000000e+04\n",
      "HiGHS run time      :          0.00\n",
      "objective_value(oil) = 10180.0\n",
      "value.(x) = [100000.0, 0.0, 300000.0, 600000.0, 0.0, 0.0, 300000.0, 400000.0, -0.0, 0.0]\n"
     ]
    },
    {
     "data": {
      "text/plain": [
       "10-element Vector{Float64}:\n",
       " 100000.0\n",
       "      0.0\n",
       " 300000.0\n",
       " 600000.0\n",
       "      0.0\n",
       "      0.0\n",
       " 300000.0\n",
       " 400000.0\n",
       "     -0.0\n",
       "      0.0"
      ]
     },
     "metadata": {},
     "output_type": "display_data"
    }
   ],
   "source": [
    "optimize!(oil)\n",
    "@show objective_value(oil)\n",
    "@show value.(x)"
   ]
  }
 ],
 "metadata": {
  "kernelspec": {
   "display_name": "Julia 1.10.5",
   "language": "julia",
   "name": "julia-1.10"
  },
  "language_info": {
   "file_extension": ".jl",
   "mimetype": "application/julia",
   "name": "julia",
   "version": "1.10.5"
  }
 },
 "nbformat": 4,
 "nbformat_minor": 2
}
