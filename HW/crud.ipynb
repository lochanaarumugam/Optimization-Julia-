{
 "cells": [
  {
   "cell_type": "code",
   "execution_count": 19,
   "metadata": {},
   "outputs": [
    {
     "name": "stdout",
     "output_type": "stream",
     "text": [
      "Running HiGHS 1.7.2 (git hash: 5ce7a2753): Copyright (c) 2024 HiGHS under MIT licence terms\n",
      "Coefficient ranges:\n",
      "  Matrix [1e+00, 1e+00]\n",
      "  Cost   [3e+01, 5e+01]\n",
      "  Bound  [0e+00, 0e+00]\n",
      "  RHS    [1e+02, 2e+03]\n",
      "Presolving model\n",
      "5 rows, 6 cols, 24 nonzeros  0s\n",
      "4 rows, 6 cols, 18 nonzeros  0s\n",
      "Presolve : Reductions: rows 4(-9); columns 6(-0); elements 18(-15)\n",
      "Solving the presolved LP\n",
      "Using EKK dual simplex solver - serial\n",
      "  Iteration        Objective     Infeasibilities num(sum)\n",
      "          0     0.0000000000e+00 Pr: 4(3360) 0s\n",
      "          1     7.8550000000e+04 Pr: 0(0) 0s\n",
      "Solving the original LP from the solution after postsolve\n",
      "Model   status      : Optimal\n",
      "Simplex   iterations: 1\n",
      "Objective value     :  7.8550000000e+04\n",
      "HiGHS run time      :          0.01\n",
      "Optimal objective value: 78550.0\n",
      "Decision variables (amount of Chemical X to recycle): [650.0, 290.0, 650.0, 0.0, 650.0, 0.0]\n"
     ]
    }
   ],
   "source": [
    "using JuMP\n",
    "using HiGHS\n",
    "\n",
    "# Model creation\n",
    "model = Model(HiGHS.Optimizer)\n",
    "\n",
    "# Decision variables\n",
    "@variable(model, x[1:6] >= 0)  \n",
    "\n",
    "# Parameters\n",
    "production = [350, 240, 550, 200, 300, 600]\n",
    "costs = [30, 40, 35, 45, 38, 50]\n",
    "\n",
    "# Objective\n",
    "@objective(model, Min, sum(costs[i] * x[i] for i in 1:6))\n",
    "\n",
    "# Chemical balance constraints\n",
    "@constraint(model, x[1] <= 1000)  # For 10 AM, chemical limit can be set initially\n",
    "for t in 2:6\n",
    "    @constraint(model, sum(production[1:t]) - sum(x[1:t]) <= 1000)  # Chemical balance without name\n",
    "end\n",
    "\n",
    "# Capacity limits thru a loop\n",
    "@constraint(model, x[1] <= 650)\n",
    "for t in 2:6\n",
    "    @constraint(model, x[t] <= 650)\n",
    "end\n",
    "\n",
    "# No overnight storage constrait\n",
    "@constraint(model, sum(production) - sum(x) == 0)\n",
    "\n",
    "# Solve\n",
    "optimize!(model)\n",
    "\n",
    "# Print \n",
    "optimal_value = objective_value(model)\n",
    "decision_variables = value.(x)\n",
    "\n",
    "println(\"Optimal objective value: \", optimal_value)\n",
    "println(\"Decision variables (amount of Chemical X to recycle): \", decision_variables)\n",
    "\n",
    "# the final number isn't correct :(\n"
   ]
  }
 ],
 "metadata": {
  "kernelspec": {
   "display_name": "Julia 1.10.5",
   "language": "julia",
   "name": "julia-1.10"
  },
  "language_info": {
   "file_extension": ".jl",
   "mimetype": "application/julia",
   "name": "julia",
   "version": "1.10.5"
  }
 },
 "nbformat": 4,
 "nbformat_minor": 2
}
