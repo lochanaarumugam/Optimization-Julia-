{
 "cells": [
  {
   "cell_type": "code",
   "execution_count": 2,
   "metadata": {},
   "outputs": [
    {
     "name": "stdout",
     "output_type": "stream",
     "text": [
      "Min 0.14 x1 + 0.12 x2 + 0.2 x3 + 0.75 x4 + 0.15 x5\n",
      "Subject to\n",
      " calories : 23 x1 + 171 x2 + 65 x3 + 112 x4 + 188 x5 ≥ 2000\n",
      " fat : 0.1 x1 + 0.2 x2 + 9.3 x4 + 16 x5 ≥ 50\n",
      " protein : 0.6 x1 + 3.7 x2 + 2.2 x3 + 7 x4 + 7.7 x5 ≥ 100\n",
      " carbs : 6 x1 + 30 x2 + 13 x3 + 2 x5 ≥ 250\n",
      " x1 ≥ 0\n",
      " x2 ≥ 0\n",
      " x3 ≥ 0\n",
      " x4 ≥ 0\n",
      " x5 ≥ 0\n",
      "Running HiGHS 1.7.2 (git hash: 5ce7a2753): Copyright (c) 2024 HiGHS under MIT licence terms\n",
      "Coefficient ranges:\n",
      "  Matrix [1e-01, 2e+02]\n",
      "  Cost   [1e-01, 8e-01]\n",
      "  Bound  [0e+00, 0e+00]\n",
      "  RHS    [5e+01, 2e+03]\n",
      "Presolving model\n",
      "4 rows, 4 cols, 15 nonzeros  0s\n",
      "4 rows, 2 cols, 8 nonzeros  0s\n",
      "Presolve : Reductions: rows 4(-0); columns 2(-3); elements 8(-10)\n",
      "Solving the presolved LP\n",
      "Using EKK dual simplex solver - serial\n",
      "  Iteration        Objective     Infeasibilities num(sum)\n",
      "          0     0.0000000000e+00 Pr: 4(975) 0s\n",
      "          3     2.3177549195e+00 Pr: 0(0) 0s\n",
      "Solving the original LP from the solution after postsolve\n",
      "Model   status      : Optimal\n",
      "Simplex   iterations: 3\n",
      "Objective value     :  2.3177549195e+00\n",
      "HiGHS run time      :          0.00\n",
      "Optimal Solution:\n",
      "value(x1) = 0.0\n",
      "value(x2) = 7.714669051878355\n",
      "value(x3) = 0.0\n",
      "value(x4) = 0.0\n",
      "value(x5) = 9.279964221824686\n",
      "objective_value(nutrition) = 2.3177549194991056\n"
     ]
    },
    {
     "data": {
      "text/plain": [
       "2.3177549194991056"
      ]
     },
     "metadata": {},
     "output_type": "display_data"
    }
   ],
   "source": [
    "#Import JuMP package to build an optimization model\n",
    "using JuMP\n",
    "#Import HiGHS solver\n",
    "using HiGHS\n",
    "\n",
    "#Create a JuMP model named picframe1 that will be solved using the HiGHS solver\n",
    "nutrition = Model(HiGHS.Optimizer);\n",
    "\n",
    "#defining raw carrots, baked potatoes, wheat bread, cheddar cheese, and peanut butter\n",
    "@variable(nutrition, x1 >= 0);\n",
    "@variable(nutrition, x2 >= 0);\n",
    "@variable(nutrition, x3 >= 0);\n",
    "@variable(nutrition, x4 >= 0);\n",
    "@variable(nutrition, x5 >= 0);\n",
    "\n",
    "#Constraints\n",
    "@constraint(nutrition, calories, 23x1 + 171x2 +65x3 + 112x4 + 188x5 >= 2000);\n",
    "@constraint(nutrition, fat, 0.1x1 + 0.2x2 + 9.3x4 + 16x5 >= 50);\n",
    "@constraint(nutrition, protein, 0.6x1 + 3.7x2 + 2.2x3 + 7x4 + 7.7x5 >= 100);\n",
    "@constraint(nutrition, carbs, 6x1 + 30x2 +13x3 + 2x5 >= 250);\n",
    "\n",
    "#Objective Function\n",
    "@objective(nutrition, Min, 0.14x1 + 0.12x2 + 0.2x3 + 0.75x4 + 0.15x5);\n",
    "\n",
    "#Print out the model\n",
    "print(nutrition)\n",
    "latex_formulation(nutrition)\n",
    "\n",
    "optimize!(nutrition)\n",
    "# Print results\n",
    "@show value(x1)\n",
    "@show value(x2)\n",
    "@show value(x3)\n",
    "@show value(x4)\n",
    "@show value(x5)\n",
    "@show objective_value(nutrition)"
   ]
  },
  {
   "cell_type": "code",
   "execution_count": null,
   "metadata": {},
   "outputs": [],
   "source": []
  },
  {
   "cell_type": "code",
   "execution_count": null,
   "metadata": {},
   "outputs": [],
   "source": []
  }
 ],
 "metadata": {
  "kernelspec": {
   "display_name": "Julia 1.10.5",
   "language": "julia",
   "name": "julia-1.10"
  },
  "language_info": {
   "file_extension": ".jl",
   "mimetype": "application/julia",
   "name": "julia",
   "version": "1.10.5"
  }
 },
 "nbformat": 4,
 "nbformat_minor": 2
}
